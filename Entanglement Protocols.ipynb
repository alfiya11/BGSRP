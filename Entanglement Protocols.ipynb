{
 "cells": [
  {
   "cell_type": "markdown",
   "id": "66cde996-f3e0-4a44-9bea-d221eda7e19a",
   "metadata": {},
   "source": [
    "<h2>Teleportation"
   ]
  },
  {
   "cell_type": "code",
   "execution_count": 3,
   "id": "c8dfb0d9-47b3-44f4-97c0-67ec70672394",
   "metadata": {},
   "outputs": [],
   "source": [
    "# Required imports\n",
    "from qiskit import QuantumCircuit, QuantumRegister, ClassicalRegister\n",
    "from qiskit_aer import AerSimulator\n",
    "from qiskit.visualization import plot_histogram\n",
    "from qiskit.result import marginal_distribution\n",
    "from qiskit.circuit.library import UGate\n",
    "from numpy import pi, random"
   ]
  },
  {
   "cell_type": "code",
   "execution_count": 47,
   "id": "86c661f7-cfb3-4c47-b880-a76955136e20",
   "metadata": {},
   "outputs": [
    {
     "data": {
      "text/html": [
       "<pre style=\"word-wrap: normal;white-space: pre;background: #fff0;line-height: 1.1;font-family: &quot;Courier New&quot;,Courier,monospace\">                ░      ┌───┐ ░    ┌─┐ ░                                     »\n",
       "  Q: ───────────░───■──┤ H ├─░────┤M├─░─────────────────────────────────────»\n",
       "     ┌───┐      ░ ┌─┴─┐└───┘ ░ ┌─┐└╥┘ ░                                     »\n",
       "  A: ┤ H ├──■───░─┤ X ├──────░─┤M├─╫──░─────────────────────────────────────»\n",
       "     └───┘┌─┴─┐ ░ └───┘      ░ └╥┘ ║  ░ ┌────── ┌───┐ ───────┐ ┌────── ┌───┐»\n",
       "  B: ─────┤ X ├─░────────────░──╫──╫──░─┤ If-0  ┤ X ├  End-0 ├─┤ If-0  ┤ Z ├»\n",
       "          └───┘ ░            ░  ║  ║  ░ └──╥─── └───┘ ───────┘ └──╥─── └───┘»\n",
       "                                ║  ║    ┌──╨──┐                   ║         »\n",
       "a: 1/═══════════════════════════╩══╬════╡ 0x1 ╞═══════════════════╬═════════»\n",
       "                                0  ║    └─────┘                ┌──╨──┐      »\n",
       "b: 1/══════════════════════════════╩═══════════════════════════╡ 0x1 ╞══════»\n",
       "                                   0                           └─────┘      »\n",
       "«               \n",
       "«  Q: ──────────\n",
       "«               \n",
       "«  A: ──────────\n",
       "«      ───────┐ \n",
       "«  B:   End-0 ├─\n",
       "«      ───────┘ \n",
       "«a: 1/══════════\n",
       "«               \n",
       "«b: 1/══════════\n",
       "«               </pre>"
      ],
      "text/plain": [
       "                ░      ┌───┐ ░    ┌─┐ ░                                     »\n",
       "  Q: ───────────░───■──┤ H ├─░────┤M├─░─────────────────────────────────────»\n",
       "     ┌───┐      ░ ┌─┴─┐└───┘ ░ ┌─┐└╥┘ ░                                     »\n",
       "  A: ┤ H ├──■───░─┤ X ├──────░─┤M├─╫──░─────────────────────────────────────»\n",
       "     └───┘┌─┴─┐ ░ └───┘      ░ └╥┘ ║  ░ ┌────── ┌───┐ ───────┐ ┌────── ┌───┐»\n",
       "  B: ─────┤ X ├─░────────────░──╫──╫──░─┤ If-0  ┤ X ├  End-0 ├─┤ If-0  ┤ Z ├»\n",
       "          └───┘ ░            ░  ║  ║  ░ └──╥─── └───┘ ───────┘ └──╥─── └───┘»\n",
       "                                ║  ║    ┌──╨──┐                   ║         »\n",
       "a: 1/═══════════════════════════╩══╬════╡ 0x1 ╞═══════════════════╬═════════»\n",
       "                                0  ║    └─────┘                ┌──╨──┐      »\n",
       "b: 1/══════════════════════════════╩═══════════════════════════╡ 0x1 ╞══════»\n",
       "                                   0                           └─────┘      »\n",
       "«               \n",
       "«  Q: ──────────\n",
       "«               \n",
       "«  A: ──────────\n",
       "«      ───────┐ \n",
       "«  B:   End-0 ├─\n",
       "«      ───────┘ \n",
       "«a: 1/══════════\n",
       "«               \n",
       "«b: 1/══════════\n",
       "«               "
      ]
     },
     "metadata": {},
     "output_type": "display_data"
    }
   ],
   "source": [
    "# teleportation steps\n",
    "qubit = QuantumRegister(1, \"Q\")\n",
    "ebit0 = QuantumRegister(1, \"A\")\n",
    "ebit1 = QuantumRegister(1, \"B\")\n",
    "a = ClassicalRegister(1, \"a\")\n",
    "b = ClassicalRegister(1, \"b\")\n",
    "\n",
    "protocol = QuantumCircuit(qubit, ebit0, ebit1, a, b)\n",
    "\n",
    "# Prepare ebit used for teleportation\n",
    "protocol.h(ebit0)\n",
    "protocol.cx(ebit0, ebit1)\n",
    "protocol.barrier()\n",
    "\n",
    "# Alice's operations\n",
    "protocol.cx(qubit, ebit0)\n",
    "protocol.h(qubit)\n",
    "protocol.barrier()\n",
    "\n",
    "# Alice measures and sends classical bits to Bob\n",
    "protocol.measure(ebit0, a)\n",
    "protocol.measure(qubit, b)\n",
    "protocol.barrier()\n",
    "\n",
    "# Bob uses the classical bits to conditionally apply gates\n",
    "with protocol.if_test((a, 1)):\n",
    "    protocol.x(ebit1)\n",
    "with protocol.if_test((b, 1)):\n",
    "    protocol.z(ebit1)\n",
    "\n",
    "display(protocol.draw())\n"
   ]
  },
  {
   "cell_type": "markdown",
   "id": "a1bffb09-34dc-47f6-84e4-caac38541991",
   "metadata": {},
   "source": [
    "<h2>Teleportation Example</h2>"
   ]
  },
  {
   "cell_type": "code",
   "execution_count": 48,
   "id": "77de791c-e4de-45d1-9a2b-2eb76888b899",
   "metadata": {},
   "outputs": [
    {
     "data": {
      "text/plain": [
       "array([[-0.92055429+0.j        , -0.22666784-0.31812182j],\n",
       "       [ 0.38553328+0.0628004j , -0.40670127-0.82584156j]])"
      ]
     },
     "metadata": {},
     "output_type": "display_data"
    }
   ],
   "source": [
    "random_gate = UGate(\n",
    "    theta=random.random() * 2 * pi,\n",
    "    phi=random.random() * 2 * pi,\n",
    "    lam=random.random() * 2 * pi,\n",
    ")\n",
    "\n",
    "display(random_gate.to_matrix())"
   ]
  },
  {
   "cell_type": "code",
   "execution_count": 49,
   "id": "1bb6f723-3203-4acb-91d2-8c0c30d5847a",
   "metadata": {},
   "outputs": [
    {
     "data": {
      "text/html": [
       "<pre style=\"word-wrap: normal;white-space: pre;background: #fff0;line-height: 1.1;font-family: &quot;Courier New&quot;,Courier,monospace\">          ┌───────────────────────────┐ ░            ░      ┌───┐ ░    ┌─┐ ░ »\n",
       "       Q: ┤ U(5.4806,0.16147,0.95172) ├─░────────────░───■──┤ H ├─░────┤M├─░─»\n",
       "          └───────────────────────────┘ ░ ┌───┐      ░ ┌─┴─┐└───┘ ░ ┌─┐└╥┘ ░ »\n",
       "       A: ──────────────────────────────░─┤ H ├──■───░─┤ X ├──────░─┤M├─╫──░─»\n",
       "                                        ░ └───┘┌─┴─┐ ░ └───┘      ░ └╥┘ ║  ░ »\n",
       "       B: ──────────────────────────────░──────┤ X ├─░────────────░──╫──╫──░─»\n",
       "                                        ░      └───┘ ░            ░  ║  ║  ░ »\n",
       "     a: 1/═══════════════════════════════════════════════════════════╩══╬════»\n",
       "                                                                     0  ║    »\n",
       "     b: 1/══════════════════════════════════════════════════════════════╩════»\n",
       "                                                                        0    »\n",
       "Result: 1/═══════════════════════════════════════════════════════════════════»\n",
       "                                                                             »\n",
       "«                                                         ░ »\n",
       "«       Q: ───────────────────────────────────────────────░─»\n",
       "«                                                         ░ »\n",
       "«       A: ───────────────────────────────────────────────░─»\n",
       "«          ┌────── ┌───┐ ───────┐ ┌────── ┌───┐ ───────┐  ░ »\n",
       "«       B: ┤ If-0  ┤ X ├  End-0 ├─┤ If-0  ┤ Z ├  End-0 ├──░─»\n",
       "«          └──╥─── └───┘ ───────┘ └──╥─── └───┘ ───────┘  ░ »\n",
       "«          ┌──╨──┐                   ║                      »\n",
       "«     a: 1/╡ 0x1 ╞═══════════════════╬══════════════════════»\n",
       "«          └─────┘                ┌──╨──┐                   »\n",
       "«     b: 1/═══════════════════════╡ 0x1 ╞═══════════════════»\n",
       "«                                 └─────┘                   »\n",
       "«Result: 1/═════════════════════════════════════════════════»\n",
       "«                                                           »\n",
       "«                                             \n",
       "«       Q: ───────────────────────────────────\n",
       "«                                             \n",
       "«       A: ───────────────────────────────────\n",
       "«          ┌──────────────────────────────┐┌─┐\n",
       "«       B: ┤ U(-5.4806,-0.95172,-0.16147) ├┤M├\n",
       "«          └──────────────────────────────┘└╥┘\n",
       "«     a: 1/═════════════════════════════════╬═\n",
       "«                                           ║ \n",
       "«     b: 1/═════════════════════════════════╬═\n",
       "«                                           ║ \n",
       "«Result: 1/═════════════════════════════════╩═\n",
       "«                                           0 </pre>"
      ],
      "text/plain": [
       "          ┌───────────────────────────┐ ░            ░      ┌───┐ ░    ┌─┐ ░ »\n",
       "       Q: ┤ U(5.4806,0.16147,0.95172) ├─░────────────░───■──┤ H ├─░────┤M├─░─»\n",
       "          └───────────────────────────┘ ░ ┌───┐      ░ ┌─┴─┐└───┘ ░ ┌─┐└╥┘ ░ »\n",
       "       A: ──────────────────────────────░─┤ H ├──■───░─┤ X ├──────░─┤M├─╫──░─»\n",
       "                                        ░ └───┘┌─┴─┐ ░ └───┘      ░ └╥┘ ║  ░ »\n",
       "       B: ──────────────────────────────░──────┤ X ├─░────────────░──╫──╫──░─»\n",
       "                                        ░      └───┘ ░            ░  ║  ║  ░ »\n",
       "     a: 1/═══════════════════════════════════════════════════════════╩══╬════»\n",
       "                                                                     0  ║    »\n",
       "     b: 1/══════════════════════════════════════════════════════════════╩════»\n",
       "                                                                        0    »\n",
       "Result: 1/═══════════════════════════════════════════════════════════════════»\n",
       "                                                                             »\n",
       "«                                                         ░ »\n",
       "«       Q: ───────────────────────────────────────────────░─»\n",
       "«                                                         ░ »\n",
       "«       A: ───────────────────────────────────────────────░─»\n",
       "«          ┌────── ┌───┐ ───────┐ ┌────── ┌───┐ ───────┐  ░ »\n",
       "«       B: ┤ If-0  ┤ X ├  End-0 ├─┤ If-0  ┤ Z ├  End-0 ├──░─»\n",
       "«          └──╥─── └───┘ ───────┘ └──╥─── └───┘ ───────┘  ░ »\n",
       "«          ┌──╨──┐                   ║                      »\n",
       "«     a: 1/╡ 0x1 ╞═══════════════════╬══════════════════════»\n",
       "«          └─────┘                ┌──╨──┐                   »\n",
       "«     b: 1/═══════════════════════╡ 0x1 ╞═══════════════════»\n",
       "«                                 └─────┘                   »\n",
       "«Result: 1/═════════════════════════════════════════════════»\n",
       "«                                                           »\n",
       "«                                             \n",
       "«       Q: ───────────────────────────────────\n",
       "«                                             \n",
       "«       A: ───────────────────────────────────\n",
       "«          ┌──────────────────────────────┐┌─┐\n",
       "«       B: ┤ U(-5.4806,-0.95172,-0.16147) ├┤M├\n",
       "«          └──────────────────────────────┘└╥┘\n",
       "«     a: 1/═════════════════════════════════╬═\n",
       "«                                           ║ \n",
       "«     b: 1/═════════════════════════════════╬═\n",
       "«                                           ║ \n",
       "«Result: 1/═════════════════════════════════╩═\n",
       "«                                           0 "
      ]
     },
     "metadata": {},
     "output_type": "display_data"
    }
   ],
   "source": [
    "# Create a new circuit including the same bits and qubits used in the\n",
    "# teleportation protocol.\n",
    "\n",
    "test = QuantumCircuit(qubit, ebit0, ebit1, a, b)\n",
    "\n",
    "# Start with the randomly selected gate on Q\n",
    "\n",
    "test.append(random_gate, qubit)\n",
    "test.barrier()\n",
    "\n",
    "# Append the entire teleportation protocol from above.\n",
    "\n",
    "test = test.compose(protocol)\n",
    "test.barrier()\n",
    "\n",
    "# Finally, apply the inverse of the random unitary to B and measure.\n",
    "\n",
    "test.append(random_gate.inverse(), ebit1)\n",
    "\n",
    "result = ClassicalRegister(1, \"Result\")\n",
    "test.add_register(result)\n",
    "test.measure(ebit1, result)\n",
    "\n",
    "display(test.draw())"
   ]
  },
  {
   "cell_type": "markdown",
   "id": "78448e21-53d1-4046-b34b-446263adca9e",
   "metadata": {},
   "source": [
    "<h2>Super Dense Coding"
   ]
  },
  {
   "cell_type": "code",
   "execution_count": 50,
   "id": "e4902186-90ba-4e9c-839a-b1312229f978",
   "metadata": {},
   "outputs": [],
   "source": [
    "# Required imports\n",
    "\n",
    "from qiskit import QuantumCircuit, QuantumRegister, ClassicalRegister\n",
    "from qiskit_aer.primitives import Sampler\n",
    "from qiskit_aer import AerSimulator\n",
    "from qiskit.visualization import plot_histogram"
   ]
  },
  {
   "cell_type": "code",
   "execution_count": 55,
   "id": "b58f98e2-8eff-41ac-bb31-8658c97f4d64",
   "metadata": {},
   "outputs": [],
   "source": [
    "c = \"1\"\n",
    "d = \"0\""
   ]
  },
  {
   "cell_type": "code",
   "execution_count": 56,
   "id": "eef3d134-ec74-4171-bd5a-a8a33b82808a",
   "metadata": {},
   "outputs": [
    {
     "data": {
      "text/html": [
       "<pre style=\"word-wrap: normal;white-space: pre;background: #fff0;line-height: 1.1;font-family: &quot;Courier New&quot;,Courier,monospace\">        ┌───┐      ░ ┌───┐ ░      ┌───┐ ░ ┌─┐   \n",
       "   q_0: ┤ H ├──■───░─┤ X ├─░───■──┤ H ├─░─┤M├───\n",
       "        └───┘┌─┴─┐ ░ └───┘ ░ ┌─┴─┐└───┘ ░ └╥┘┌─┐\n",
       "   q_1: ─────┤ X ├─░───────░─┤ X ├──────░──╫─┤M├\n",
       "             └───┘ ░       ░ └───┘      ░  ║ └╥┘\n",
       "meas: 2/═══════════════════════════════════╩══╩═\n",
       "                                           0  1 </pre>"
      ],
      "text/plain": [
       "        ┌───┐      ░ ┌───┐ ░      ┌───┐ ░ ┌─┐   \n",
       "   q_0: ┤ H ├──■───░─┤ X ├─░───■──┤ H ├─░─┤M├───\n",
       "        └───┘┌─┴─┐ ░ └───┘ ░ ┌─┴─┐└───┘ ░ └╥┘┌─┐\n",
       "   q_1: ─────┤ X ├─░───────░─┤ X ├──────░──╫─┤M├\n",
       "             └───┘ ░       ░ └───┘      ░  ║ └╥┘\n",
       "meas: 2/═══════════════════════════════════╩══╩═\n",
       "                                           0  1 "
      ]
     },
     "metadata": {},
     "output_type": "display_data"
    }
   ],
   "source": [
    "protocol = QuantumCircuit(2)\n",
    "\n",
    "# Prepare ebit used for superdense coding\n",
    "protocol.h(0)\n",
    "protocol.cx(0, 1)\n",
    "protocol.barrier()\n",
    "\n",
    "# Alice's operations\n",
    "if d == \"1\":\n",
    "    protocol.z(0)\n",
    "if c == \"1\":\n",
    "    protocol.x(0)\n",
    "protocol.barrier()\n",
    "\n",
    "# Bob's actions\n",
    "protocol.cx(0, 1)\n",
    "protocol.h(0)\n",
    "protocol.measure_all()\n",
    "\n",
    "display(protocol.draw())"
   ]
  },
  {
   "cell_type": "markdown",
   "id": "1421c3b5-e04f-48b3-ae0d-5e94e451073e",
   "metadata": {},
   "source": [
    "<h2>Super dense coding example</h2>"
   ]
  },
  {
   "cell_type": "code",
   "execution_count": 53,
   "id": "5534459f-b1ee-4c2f-a10c-40cfa914e196",
   "metadata": {},
   "outputs": [
    {
     "data": {
      "text/html": [
       "<pre style=\"word-wrap: normal;white-space: pre;background: #fff0;line-height: 1.1;font-family: &quot;Courier New&quot;,Courier,monospace\">                       ░ ┌───┐┌─┐┌───┐┌─┐ ░                                »\n",
       "randomizer: ───────────░─┤ H ├┤M├┤ H ├┤M├─░────────────────────────────────»\n",
       "            ┌───┐      ░ └───┘└╥┘└───┘└╥┘ ░ ┌────── ┌───┐ ───────┐ ┌────── »\n",
       "         A: ┤ H ├──■───░───────╫───────╫──░─┤ If-0  ┤ Z ├  End-0 ├─┤ If-0  »\n",
       "            └───┘┌─┴─┐ ░       ║       ║  ░ └──╥─── └───┘ ───────┘ └──╥─── »\n",
       "         B: ─────┤ X ├─░───────╫───────╫──░────╫──────────────────────╫────»\n",
       "                 └───┘ ░       ║       ║  ░ ┌──╨──┐                   ║    »\n",
       " Alice d: 1/═══════════════════╬═══════╩════╡ 0x1 ╞═══════════════════╬════»\n",
       "                               ║       0    └─────┘                ┌──╨──┐ »\n",
       " Alice c: 1/═══════════════════╩═══════════════════════════════════╡ 0x1 ╞═»\n",
       "                               0                                   └─────┘ »\n",
       "   Bob d: 1/═══════════════════════════════════════════════════════════════»\n",
       "                                                                           »\n",
       "   Bob c: 1/═══════════════════════════════════════════════════════════════»\n",
       "                                                                           »\n",
       "«                            ░            ░       \n",
       "«randomizer: ────────────────░────────────░───────\n",
       "«            ┌───┐ ───────┐  ░      ┌───┐ ░ ┌─┐   \n",
       "«         A: ┤ X ├  End-0 ├──░───■──┤ H ├─░─┤M├───\n",
       "«            └───┘ ───────┘  ░ ┌─┴─┐└───┘ ░ └╥┘┌─┐\n",
       "«         B: ────────────────░─┤ X ├──────░──╫─┤M├\n",
       "«                            ░ └───┘      ░  ║ └╥┘\n",
       "« Alice d: 1/════════════════════════════════╬══╬═\n",
       "«                                            ║  ║ \n",
       "« Alice c: 1/════════════════════════════════╬══╬═\n",
       "«                                            ║  ║ \n",
       "«   Bob d: 1/════════════════════════════════╩══╬═\n",
       "«                                            0  ║ \n",
       "«   Bob c: 1/═══════════════════════════════════╩═\n",
       "«                                               0 </pre>"
      ],
      "text/plain": [
       "                       ░ ┌───┐┌─┐┌───┐┌─┐ ░                                »\n",
       "randomizer: ───────────░─┤ H ├┤M├┤ H ├┤M├─░────────────────────────────────»\n",
       "            ┌───┐      ░ └───┘└╥┘└───┘└╥┘ ░ ┌────── ┌───┐ ───────┐ ┌────── »\n",
       "         A: ┤ H ├──■───░───────╫───────╫──░─┤ If-0  ┤ Z ├  End-0 ├─┤ If-0  »\n",
       "            └───┘┌─┴─┐ ░       ║       ║  ░ └──╥─── └───┘ ───────┘ └──╥─── »\n",
       "         B: ─────┤ X ├─░───────╫───────╫──░────╫──────────────────────╫────»\n",
       "                 └───┘ ░       ║       ║  ░ ┌──╨──┐                   ║    »\n",
       " Alice d: 1/═══════════════════╬═══════╩════╡ 0x1 ╞═══════════════════╬════»\n",
       "                               ║       0    └─────┘                ┌──╨──┐ »\n",
       " Alice c: 1/═══════════════════╩═══════════════════════════════════╡ 0x1 ╞═»\n",
       "                               0                                   └─────┘ »\n",
       "   Bob d: 1/═══════════════════════════════════════════════════════════════»\n",
       "                                                                           »\n",
       "   Bob c: 1/═══════════════════════════════════════════════════════════════»\n",
       "                                                                           »\n",
       "«                            ░            ░       \n",
       "«randomizer: ────────────────░────────────░───────\n",
       "«            ┌───┐ ───────┐  ░      ┌───┐ ░ ┌─┐   \n",
       "«         A: ┤ X ├  End-0 ├──░───■──┤ H ├─░─┤M├───\n",
       "«            └───┘ ───────┘  ░ ┌─┴─┐└───┘ ░ └╥┘┌─┐\n",
       "«         B: ────────────────░─┤ X ├──────░──╫─┤M├\n",
       "«                            ░ └───┘      ░  ║ └╥┘\n",
       "« Alice d: 1/════════════════════════════════╬══╬═\n",
       "«                                            ║  ║ \n",
       "« Alice c: 1/════════════════════════════════╬══╬═\n",
       "«                                            ║  ║ \n",
       "«   Bob d: 1/════════════════════════════════╩══╬═\n",
       "«                                            0  ║ \n",
       "«   Bob c: 1/═══════════════════════════════════╩═\n",
       "«                                               0 "
      ]
     },
     "metadata": {},
     "output_type": "display_data"
    }
   ],
   "source": [
    "rbg = QuantumRegister(1, \"randomizer\")\n",
    "ebit0 = QuantumRegister(1, \"A\")\n",
    "ebit1 = QuantumRegister(1, \"B\")\n",
    "\n",
    "Alice_c = ClassicalRegister(1, \"Alice c\")\n",
    "Alice_d = ClassicalRegister(1, \"Alice d\")\n",
    "\n",
    "test = QuantumCircuit(rbg, ebit0, ebit1, Alice_d, Alice_c)\n",
    "\n",
    "# Initialize the ebit\n",
    "test.h(ebit0)\n",
    "test.cx(ebit0, ebit1)\n",
    "test.barrier()\n",
    "\n",
    "# Use the 'randomizer' qubit twice to generate Alice's bits c and d.\n",
    "test.h(rbg)\n",
    "test.measure(rbg, Alice_c)\n",
    "test.h(rbg)\n",
    "test.measure(rbg, Alice_d)\n",
    "test.barrier()\n",
    "\n",
    "# Now the protocol runs, starting with Alice's actions, which depend\n",
    "# on her bits.\n",
    "with test.if_test((Alice_d, 1), label=\"Z\"):\n",
    "    test.z(ebit0)\n",
    "with test.if_test((Alice_c, 1), label=\"X\"):\n",
    "    test.x(ebit0)\n",
    "test.barrier()\n",
    "\n",
    "# Bob's actions\n",
    "test.cx(ebit0, ebit1)\n",
    "test.h(ebit0)\n",
    "test.barrier()\n",
    "\n",
    "Bob_c = ClassicalRegister(1, \"Bob c\")\n",
    "Bob_d = ClassicalRegister(1, \"Bob d\")\n",
    "test.add_register(Bob_d)\n",
    "test.add_register(Bob_c)\n",
    "test.measure(ebit0, Bob_d)\n",
    "test.measure(ebit1, Bob_c)\n",
    "\n",
    "display(test.draw())"
   ]
  },
  {
   "cell_type": "markdown",
   "id": "9381b961-9e85-44bf-9ea6-0cb6a03e2b22",
   "metadata": {},
   "source": [
    "<h2>Entanglement Swapping"
   ]
  },
  {
   "cell_type": "code",
   "execution_count": 62,
   "id": "3126e670-de13-4ec4-96a0-0ac93c8a52b6",
   "metadata": {},
   "outputs": [
    {
     "name": "stdout",
     "output_type": "stream",
     "text": [
      "      ┌───┐      ░            ░        ░               \n",
      " q_0: ┤ H ├──■───░────────────░────────░───────────────\n",
      "      └───┘┌─┴─┐ ░      ┌───┐ ░ ┌─┐    ░               \n",
      " q_1: ─────┤ X ├─░───■──┤ H ├─░─┤M├────░───────────────\n",
      "      ┌───┐└───┘ ░ ┌─┴─┐└───┘ ░ └╥┘┌─┐ ░               \n",
      " q_2: ┤ H ├──■───░─┤ X ├──────░──╫─┤M├─░───────────────\n",
      "      └───┘┌─┴─┐ ░ └───┘      ░  ║ └╥┘ ░  ┌───┐  ┌───┐ \n",
      " q_3: ─────┤ X ├─░────────────░──╫──╫──░──┤ X ├──┤ Z ├─\n",
      "           └───┘ ░            ░  ║  ║  ░  └─╥─┘  └─╥─┘ \n",
      "                                 ║  ║    ┌──╨──┐   ║   \n",
      "c1: 1/═══════════════════════════╩══╬════╡ 0x1 ╞═══╬═══\n",
      "                                 0  ║    └─────┘┌──╨──┐\n",
      "c2: 1/══════════════════════════════╩═══════════╡ 0x1 ╞\n",
      "                                    0           └─────┘\n"
     ]
    }
   ],
   "source": [
    "# Required imports\n",
    "from qiskit import QuantumCircuit, QuantumRegister, ClassicalRegister\n",
    "from qiskit_aer import AerSimulator\n",
    "from qiskit.visualization import plot_histogram\n",
    "from qiskit.result import marginal_distribution\n",
    "from numpy import pi, random\n",
    "\n",
    "# Step 1: Initialization\n",
    "# Define quantum registers\n",
    "q = QuantumRegister(4, 'q')\n",
    "c1 = ClassicalRegister(1, 'c1')\n",
    "c2 = ClassicalRegister(1, 'c2')\n",
    "\n",
    "# Create a quantum circuit\n",
    "circuit = QuantumCircuit(q, c1, c2)\n",
    "\n",
    "# Step 2: Preparation (Creating two Bell pairs)\n",
    "# First Bell pair (q[0] and q[1])\n",
    "circuit.h(q[0])\n",
    "circuit.cx(q[0], q[1])\n",
    "\n",
    "# Second Bell pair (q[2] and q[3])\n",
    "circuit.h(q[2])\n",
    "circuit.cx(q[2], q[3])\n",
    "\n",
    "# Barrier for visual separation\n",
    "circuit.barrier()\n",
    "\n",
    "# Step 3: Bell Measurement (between q[1] and q[2])\n",
    "circuit.cx(q[1], q[2])\n",
    "circuit.h(q[1])\n",
    "circuit.barrier()\n",
    "\n",
    "# Measure the results\n",
    "circuit.measure(q[1], c1[0])\n",
    "circuit.measure(q[2], c2[0])\n",
    "circuit.barrier()\n",
    "\n",
    "# Step 4: Conditional Operations (based on the measurement outcomes)\n",
    "# Applying corrections to q[3] based on the measurement of q[1] and q[2]\n",
    "circuit.x(q[3]).c_if(c1, 1)\n",
    "circuit.z(q[3]).c_if(c2, 1)\n",
    "\n",
    "# Draw the circuit\n",
    "print(circuit.draw())\n",
    "\n",
    "# Step 5: Simulation and Results\n",
    "# Use AerSimulator\n",
    "simulator = AerSimulator()\n",
    "\n",
    "# Execute the circuit on the qasm simulator\n",
    "result = simulator.run(circuit).result()\n",
    "\n",
    "# Get the counts for the outcomes\n",
    "counts = result.get_counts()\n",
    "\n",
    "# Plot the histogram\n",
    "# plot_histogram(counts)\n"
   ]
  },
  {
   "cell_type": "code",
   "execution_count": 57,
   "id": "835e0521-fd54-4359-87a7-ff523cf0b679",
   "metadata": {},
   "outputs": [
    {
     "data": {
      "image/png": "[encoded data removed]",
      "text/plain": [
       "<Figure size 700x500 with 1 Axes>"
      ]
     },
     "execution_count": 57,
     "metadata": {},
     "output_type": "execute_result"
    }
   ],
   "source": [
    "# Step 5: Simulation and Results\n",
    "# Use AerSimulator\n",
    "simulator = AerSimulator()\n",
    "\n",
    "# Execute the circuit on the qasm simulator\n",
    "result = simulator.run(circuit).result()\n",
    "\n",
    "# Get the counts for the outcomes\n",
    "counts = result.get_counts()\n",
    "\n",
    "# Plot the histogram\n",
    "plot_histogram(counts)"
   ]
  },
  {
   "cell_type": "code",
   "execution_count": 63,
   "id": "f1c2ecce-7c32-47f9-965d-df922fd293a0",
   "metadata": {},
   "outputs": [
    {
     "name": "stdout",
     "output_type": "stream",
     "text": [
      "      ┌───┐      ░            ░        ░               \n",
      " q_0: ┤ H ├──■───░────────────░────────░───────────────\n",
      "      └───┘┌─┴─┐ ░      ┌───┐ ░ ┌─┐    ░               \n",
      " q_1: ─────┤ X ├─░───■──┤ H ├─░─┤M├────░───────────────\n",
      "      ┌───┐└───┘ ░ ┌─┴─┐└───┘ ░ └╥┘┌─┐ ░               \n",
      " q_2: ┤ H ├──■───░─┤ X ├──────░──╫─┤M├─░───────────────\n",
      "      └───┘┌─┴─┐ ░ └───┘      ░  ║ └╥┘ ░  ┌───┐  ┌───┐ \n",
      " q_3: ─────┤ X ├─░────────────░──╫──╫──░──┤ X ├──┤ Z ├─\n",
      "           └───┘ ░            ░  ║  ║  ░  └─╥─┘  └─╥─┘ \n",
      "                                 ║  ║    ┌──╨──┐   ║   \n",
      "c1: 1/═══════════════════════════╩══╬════╡ 0x1 ╞═══╬═══\n",
      "                                 0  ║    └─────┘┌──╨──┐\n",
      "c2: 1/══════════════════════════════╩═══════════╡ 0x1 ╞\n",
      "                                    0           └─────┘\n",
      "c3: 1/═════════════════════════════════════════════════\n",
      "                                                       \n",
      "c4: 1/═════════════════════════════════════════════════\n",
      "                                                       \n"
     ]
    },
    {
     "data": {
      "image/png": "[encoded data removed]",
      "text/plain": [
       "<Figure size 700x500 with 1 Axes>"
      ]
     },
     "execution_count": 63,
     "metadata": {},
     "output_type": "execute_result"
    }
   ],
   "source": [
    "from qiskit import QuantumCircuit, QuantumRegister, ClassicalRegister\n",
    "from qiskit_aer import AerSimulator\n",
    "from qiskit.visualization import plot_histogram\n",
    "from qiskit.result import marginal_distribution\n",
    "from numpy import pi, random\n",
    "\n",
    "# Step 1: Initialization\n",
    "# Define quantum registers\n",
    "q = QuantumRegister(4, 'q')\n",
    "c1 = ClassicalRegister(1, 'c1')\n",
    "c2 = ClassicalRegister(1, 'c2')\n",
    "c3 = ClassicalRegister(1, 'c3')\n",
    "c4 = ClassicalRegister(1, 'c4')\n",
    "\n",
    "# Create a quantum circuit\n",
    "circuit = QuantumCircuit(q, c1, c2, c3, c4)\n",
    "\n",
    "# Step 2: Preparation (Creating two Bell pairs)\n",
    "# First Bell pair (q[0] and q[1])\n",
    "circuit.h(q[0])\n",
    "circuit.cx(q[0], q[1])\n",
    "\n",
    "# Second Bell pair (q[2] and q[3])\n",
    "circuit.h(q[2])\n",
    "circuit.cx(q[2], q[3])\n",
    "\n",
    "# Barrier for visual separation\n",
    "circuit.barrier()\n",
    "\n",
    "# Step 3: Bell Measurement (between q[1] and q[2])\n",
    "circuit.cx(q[1], q[2])\n",
    "circuit.h(q[1])\n",
    "circuit.barrier()\n",
    "\n",
    "# Measure the results\n",
    "circuit.measure(q[1], c1[0])\n",
    "circuit.measure(q[2], c2[0])\n",
    "circuit.barrier()\n",
    "\n",
    "# Step 4: Conditional Operations (based on the measurement outcomes)\n",
    "# Applying corrections to q[3] based on the measurement of q[1] and q[2]\n",
    "circuit.x(q[3]).c_if(c1, 1)\n",
    "circuit.z(q[3]).c_if(c2, 1)\n",
    "\n",
    "# Draw the circuit\n",
    "print(circuit.draw())\n",
    "\n",
    "# Measure q[0] and q[3]\n",
    "circuit.measure(q[0], c3[0])\n",
    "circuit.measure(q[3], c4[0])\n",
    "\n",
    "# Use AerSimulator\n",
    "simulator = AerSimulator()\n",
    "\n",
    "# Execute the circuit on the qasm simulator\n",
    "result = simulator.run(circuit).result()\n",
    "\n",
    "# Get the counts for the outcomes\n",
    "counts = result.get_counts()\n",
    "\n",
    "# Plot the histogram\n",
    "plot_histogram(counts)\n"
   ]
  },
  {
   "cell_type": "code",
   "execution_count": null,
   "id": "529797ea-bc0f-41c1-91bd-74933c2a5d73",
   "metadata": {},
   "outputs": [],
   "source": []
  }
 ],
 "metadata": {
  "kernelspec": {
   "display_name": "Python 3 (ipykernel)",
   "language": "python",
   "name": "python3"
  },
  "language_info": {
   "codemirror_mode": {
    "name": "ipython",
    "version": 3
   },
   "file_extension": ".py",
   "mimetype": "text/x-python",
   "name": "python",
   "nbconvert_exporter": "python",
   "pygments_lexer": "ipython3",
   "version": "3.9.12"
  }
 },
 "nbformat": 4,
 "nbformat_minor": 5
}
