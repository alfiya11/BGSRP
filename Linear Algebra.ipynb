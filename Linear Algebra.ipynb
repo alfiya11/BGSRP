{
 "cells": [
  {
   "cell_type": "code",
   "execution_count": 3,
   "id": "e40fbe17",
   "metadata": {},
   "outputs": [
    {
     "name": "stdout",
     "output_type": "stream",
     "text": [
      "Sigma X:\n",
      " Quantum object: dims=[[2], [2]], shape=(2, 2), type='oper', dtype=CSR, isherm=True\n",
      "Qobj data =\n",
      "[[0. 1.]\n",
      " [1. 0.]]\n",
      "\n",
      "Adjoint (Conjugate Transpose) of Sigma X:\n",
      " Quantum object: dims=[[2], [2]], shape=(2, 2), type='oper', dtype=CSR, isherm=True\n",
      "Qobj data =\n",
      "[[0. 1.]\n",
      " [1. 0.]]\n",
      "Is Sigma X Hermitian?: True\n",
      "\n",
      "Sigma Y:\n",
      " Quantum object: dims=[[2], [2]], shape=(2, 2), type='oper', dtype=CSR, isherm=True\n",
      "Qobj data =\n",
      "[[0.+0.j 0.-1.j]\n",
      " [0.+1.j 0.+0.j]]\n",
      "\n",
      "Adjoint (Conjugate Transpose) of Sigma Y:\n",
      " Quantum object: dims=[[2], [2]], shape=(2, 2), type='oper', dtype=CSR, isherm=True\n",
      "Qobj data =\n",
      "[[0.+0.j 0.-1.j]\n",
      " [0.+1.j 0.+0.j]]\n",
      "Is Sigma Y Hermitian?: True\n",
      "\n",
      "Sigma Z:\n",
      " Quantum object: dims=[[2], [2]], shape=(2, 2), type='oper', dtype=CSR, isherm=True\n",
      "Qobj data =\n",
      "[[ 1.  0.]\n",
      " [ 0. -1.]]\n",
      "\n",
      "Adjoint (Conjugate Transpose) of Sigma Z:\n",
      " Quantum object: dims=[[2], [2]], shape=(2, 2), type='oper', dtype=CSR, isherm=True\n",
      "Qobj data =\n",
      "[[ 1.  0.]\n",
      " [ 0. -1.]]\n",
      "Is Sigma Z Hermitian?: True\n"
     ]
    }
   ],
   "source": [
    "#Adjoint and Hermitian\n",
    "import qutip as qt\n",
    "\n",
    "# Define Pauli matrices using qutip\n",
    "sigma_x = qt.sigmax()\n",
    "sigma_y = qt.sigmay()\n",
    "sigma_z = qt.sigmaz()\n",
    "\n",
    "# Calculate the adjoint (conjugate transpose) of the Pauli matrices\n",
    "adjoint_sigma_x = sigma_x.dag()\n",
    "adjoint_sigma_y = sigma_y.dag()\n",
    "adjoint_sigma_z = sigma_z.dag()\n",
    "\n",
    "# Check if the Pauli matrices are Hermitian (i.e., they are equal to their adjoints)\n",
    "is_sigma_x_hermitian = sigma_x == adjoint_sigma_x\n",
    "is_sigma_y_hermitian = sigma_y == adjoint_sigma_y\n",
    "is_sigma_z_hermitian = sigma_z == adjoint_sigma_z\n",
    "\n",
    "# Print results\n",
    "print(\"Sigma X:\\n\", sigma_x)\n",
    "print(\"\\nAdjoint (Conjugate Transpose) of Sigma X:\\n\", adjoint_sigma_x)\n",
    "print(\"Is Sigma X Hermitian?:\", is_sigma_x_hermitian)\n",
    "\n",
    "print(\"\\nSigma Y:\\n\", sigma_y)\n",
    "print(\"\\nAdjoint (Conjugate Transpose) of Sigma Y:\\n\", adjoint_sigma_y)\n",
    "print(\"Is Sigma Y Hermitian?:\", is_sigma_y_hermitian)\n",
    "\n",
    "print(\"\\nSigma Z:\\n\", sigma_z)\n",
    "print(\"\\nAdjoint (Conjugate Transpose) of Sigma Z:\\n\", adjoint_sigma_z)\n",
    "print(\"Is Sigma Z Hermitian?:\", is_sigma_z_hermitian)\n"
   ]
  },
  {
   "cell_type": "code",
   "execution_count": 6,
   "id": "84cbabcf",
   "metadata": {},
   "outputs": [],
   "source": [
    "# Tensor Product\n",
    "import qutip as qt\n",
    "\n",
    "# Define single qubit basis states\n",
    "ket_0 = qt.basis(2, 0)  # |0>\n",
    "ket_1 = qt.basis(2, 1)  # |1>\n",
    "\n",
    "# Compute tensor products for two-qubit states\n",
    "ket_00 = qt.tensor(ket_0, ket_0)  # |00>\n",
    "ket_01 = qt.tensor(ket_0, ket_1)  # |01>\n",
    "ket_10 = qt.tensor(ket_1, ket_0)  # |10>\n",
    "ket_11 = qt.tensor(ket_1, ket_1)  # |11>\n"
   ]
  },
  {
   "cell_type": "code",
   "execution_count": 5,
   "id": "cb979f9a",
   "metadata": {},
   "outputs": [
    {
     "data": {
      "text/latex": [
       "Quantum object: dims=[[2, 2], [1, 1]], shape=(4, 1), type='ket', dtype=Dense$$\\left(\\begin{array}{cc}1\\\\0\\\\0\\\\0\\end{array}\\right)$$"
      ],
      "text/plain": [
       "Quantum object: dims=[[2, 2], [1, 1]], shape=(4, 1), type='ket', dtype=Dense\n",
       "Qobj data =\n",
       "[[1.]\n",
       " [0.]\n",
       " [0.]\n",
       " [0.]]"
      ]
     },
     "execution_count": 5,
     "metadata": {},
     "output_type": "execute_result"
    }
   ],
   "source": [
    "ket_00"
   ]
  },
  {
   "cell_type": "code",
   "execution_count": 9,
   "id": "ccff2c1b",
   "metadata": {},
   "outputs": [
    {
     "data": {
      "text/latex": [
       "Quantum object: dims=[[2, 2], [1, 1]], shape=(4, 1), type='ket', dtype=Dense$$\\left(\\begin{array}{cc}0\\\\1\\\\0\\\\0\\end{array}\\right)$$"
      ],
      "text/plain": [
       "Quantum object: dims=[[2, 2], [1, 1]], shape=(4, 1), type='ket', dtype=Dense\n",
       "Qobj data =\n",
       "[[0.]\n",
       " [1.]\n",
       " [0.]\n",
       " [0.]]"
      ]
     },
     "execution_count": 9,
     "metadata": {},
     "output_type": "execute_result"
    }
   ],
   "source": [
    "ket_01"
   ]
  },
  {
   "cell_type": "code",
   "execution_count": 10,
   "id": "5a5d83ca",
   "metadata": {},
   "outputs": [
    {
     "data": {
      "text/latex": [
       "Quantum object: dims=[[2, 2], [1, 1]], shape=(4, 1), type='ket', dtype=Dense$$\\left(\\begin{array}{cc}0\\\\0\\\\1\\\\0\\end{array}\\right)$$"
      ],
      "text/plain": [
       "Quantum object: dims=[[2, 2], [1, 1]], shape=(4, 1), type='ket', dtype=Dense\n",
       "Qobj data =\n",
       "[[0.]\n",
       " [0.]\n",
       " [1.]\n",
       " [0.]]"
      ]
     },
     "execution_count": 10,
     "metadata": {},
     "output_type": "execute_result"
    }
   ],
   "source": [
    "ket_10"
   ]
  },
  {
   "cell_type": "code",
   "execution_count": 11,
   "id": "9f572a26",
   "metadata": {},
   "outputs": [
    {
     "data": {
      "text/latex": [
       "Quantum object: dims=[[2, 2], [1, 1]], shape=(4, 1), type='ket', dtype=Dense$$\\left(\\begin{array}{cc}0\\\\0\\\\0\\\\1\\end{array}\\right)$$"
      ],
      "text/plain": [
       "Quantum object: dims=[[2, 2], [1, 1]], shape=(4, 1), type='ket', dtype=Dense\n",
       "Qobj data =\n",
       "[[0.]\n",
       " [0.]\n",
       " [0.]\n",
       " [1.]]"
      ]
     },
     "execution_count": 11,
     "metadata": {},
     "output_type": "execute_result"
    }
   ],
   "source": [
    "ket_11"
   ]
  },
  {
   "cell_type": "code",
   "execution_count": 13,
   "id": "c8863ea3",
   "metadata": {},
   "outputs": [
    {
     "name": "stdout",
     "output_type": "stream",
     "text": [
      "Commutator [σx, σz]:\n",
      " Quantum object: dims=[[2], [2]], shape=(2, 2), type='oper', dtype=CSR, isherm=False\n",
      "Qobj data =\n",
      "[[ 0. -2.]\n",
      " [ 2.  0.]]\n",
      "\n",
      "Commutator [σy, σz]:\n",
      " Quantum object: dims=[[2], [2]], shape=(2, 2), type='oper', dtype=CSR, isherm=False\n",
      "Qobj data =\n",
      "[[0.+0.j 0.+2.j]\n",
      " [0.+2.j 0.+0.j]]\n",
      "\n",
      "Commutator [σx, σy]:\n",
      " Quantum object: dims=[[2], [2]], shape=(2, 2), type='oper', dtype=CSR, isherm=False\n",
      "Qobj data =\n",
      "[[0.+2.j 0.+0.j]\n",
      " [0.+0.j 0.-2.j]]\n",
      "\n",
      "Anti-Commutator {σx, σz}:\n",
      " Quantum object: dims=[[2], [2]], shape=(2, 2), type='oper', dtype=CSR, isherm=True\n",
      "Qobj data =\n",
      "[[0. 0.]\n",
      " [0. 0.]]\n",
      "\n",
      "Anti-Commutator {σy, σz}:\n",
      " Quantum object: dims=[[2], [2]], shape=(2, 2), type='oper', dtype=CSR, isherm=True\n",
      "Qobj data =\n",
      "[[0. 0.]\n",
      " [0. 0.]]\n",
      "\n",
      "Anti-Commutator {σx, σy}:\n",
      " Quantum object: dims=[[2], [2]], shape=(2, 2), type='oper', dtype=CSR, isherm=True\n",
      "Qobj data =\n",
      "[[0. 0.]\n",
      " [0. 0.]]\n"
     ]
    }
   ],
   "source": [
    "# Commutator and Anti- commutator\n",
    "import qutip as qt\n",
    "\n",
    "# Define Pauli matrices using qutip\n",
    "sigma_x = qt.sigmax()\n",
    "sigma_y = qt.sigmay()\n",
    "sigma_z = qt.sigmaz()\n",
    "\n",
    "# Compute commutators\n",
    "commutator_xz = sigma_x * sigma_z - sigma_z * sigma_x\n",
    "commutator_yz = sigma_y * sigma_z - sigma_z * sigma_y\n",
    "commutator_xy = sigma_x * sigma_y - sigma_y * sigma_x\n",
    "\n",
    "# Compute anti-commutators\n",
    "anticommutator_xz = sigma_x * sigma_z + sigma_z * sigma_x\n",
    "anticommutator_yz = sigma_y * sigma_z + sigma_z * sigma_y\n",
    "anticommutator_xy = sigma_x * sigma_y + sigma_y * sigma_x\n",
    "\n",
    "# Print results\n",
    "print(\"Commutator [σx, σz]:\\n\", commutator_xz)\n",
    "print(\"\\nCommutator [σy, σz]:\\n\", commutator_yz)\n",
    "print(\"\\nCommutator [σx, σy]:\\n\", commutator_xy)\n",
    "\n",
    "print(\"\\nAnti-Commutator {σx, σz}:\\n\", anticommutator_xz)\n",
    "print(\"\\nAnti-Commutator {σy, σz}:\\n\", anticommutator_yz)\n",
    "print(\"\\nAnti-Commutator {σx, σy}:\\n\", anticommutator_xy)\n"
   ]
  },
  {
   "cell_type": "code",
   "execution_count": 28,
   "id": "05e00000",
   "metadata": {},
   "outputs": [
    {
     "name": "stdout",
     "output_type": "stream",
     "text": [
      "Pauli X matrix:\n",
      "Quantum object: dims=[[2], [2]], shape=(2, 2), type='oper', dtype=CSR, isherm=True\n",
      "Qobj data =\n",
      "[[0. 1.]\n",
      " [1. 0.]]\n",
      "\n",
      "Pauli Z matrix:\n",
      "Quantum object: dims=[[2], [2]], shape=(2, 2), type='oper', dtype=CSR, isherm=True\n",
      "Qobj data =\n",
      "[[ 1.  0.]\n",
      " [ 0. -1.]]\n",
      "\n",
      "Commutator [X, Z]:\n",
      "Quantum object: dims=[[2], [2]], shape=(2, 2), type='oper', dtype=CSR, isherm=False\n",
      "Qobj data =\n",
      "[[ 0. -2.]\n",
      " [ 2.  0.]]\n",
      "\n",
      "Does [X, Z] == 0?  False\n"
     ]
    }
   ],
   "source": [
    "X = sigmax()\n",
    "Z = sigmaz()\n",
    "\n",
    "# Compute the commutator [X, Z]\n",
    "commutator_result = commutator(X, Z)\n",
    "\n",
    "# Check if the commutator is close to a zero matrix\n",
    "is_commutator_zero = commutator_result.norm() < 1e-10  # Adjust the threshold as needed\n",
    "\n",
    "# Print results\n",
    "print(\"Pauli X matrix:\")\n",
    "print(X)\n",
    "\n",
    "print(\"\\nPauli Z matrix:\")\n",
    "print(Z)\n",
    "\n",
    "print(\"\\nCommutator [X, Z]:\")\n",
    "print(commutator_result)\n",
    "\n",
    "print(\"\\nDoes [X, Z] == 0? \", is_commutator_zero)"
   ]
  },
  {
   "cell_type": "code",
   "execution_count": null,
   "id": "d3f95386",
   "metadata": {},
   "outputs": [],
   "source": []
  }
 ],
 "metadata": {
  "kernelspec": {
   "display_name": "Python 3 (ipykernel)",
   "language": "python",
   "name": "python3"
  },
  "language_info": {
   "codemirror_mode": {
    "name": "ipython",
    "version": 3
   },
   "file_extension": ".py",
   "mimetype": "text/x-python",
   "name": "python",
   "nbconvert_exporter": "python",
   "pygments_lexer": "ipython3",
   "version": "3.9.12"
  }
 },
 "nbformat": 4,
 "nbformat_minor": 5
}
