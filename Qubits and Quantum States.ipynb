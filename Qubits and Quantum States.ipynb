{
 "cells": [
  {
   "cell_type": "code",
   "execution_count": 4,
   "id": "f06b4db3",
   "metadata": {},
   "outputs": [],
   "source": [
    "# Representation of quantum states\n",
    "import qutip as qt\n",
    "\n",
    "# Define the ket states |0⟩ and |1⟩\n",
    "ket_0 = qt.basis(2, 0)\n",
    "ket_1 = qt.basis(2, 1)"
   ]
  },
  {
   "cell_type": "code",
   "execution_count": 5,
   "id": "da1d517c",
   "metadata": {},
   "outputs": [
    {
     "data": {
      "text/latex": [
       "Quantum object: dims=[[2], [1]], shape=(2, 1), type='ket', dtype=Dense$$\\left(\\begin{array}{cc}1\\\\0\\end{array}\\right)$$"
      ],
      "text/plain": [
       "Quantum object: dims=[[2], [1]], shape=(2, 1), type='ket', dtype=Dense\n",
       "Qobj data =\n",
       "[[1.]\n",
       " [0.]]"
      ]
     },
     "execution_count": 5,
     "metadata": {},
     "output_type": "execute_result"
    }
   ],
   "source": [
    "ket_0"
   ]
  },
  {
   "cell_type": "code",
   "execution_count": 6,
   "id": "ae7aeeab",
   "metadata": {},
   "outputs": [
    {
     "data": {
      "text/latex": [
       "Quantum object: dims=[[2], [1]], shape=(2, 1), type='ket', dtype=Dense$$\\left(\\begin{array}{cc}0\\\\1\\end{array}\\right)$$"
      ],
      "text/plain": [
       "Quantum object: dims=[[2], [1]], shape=(2, 1), type='ket', dtype=Dense\n",
       "Qobj data =\n",
       "[[0.]\n",
       " [1.]]"
      ]
     },
     "execution_count": 6,
     "metadata": {},
     "output_type": "execute_result"
    }
   ],
   "source": [
    "ket_1"
   ]
  },
  {
   "cell_type": "code",
   "execution_count": 8,
   "id": "d702b86d",
   "metadata": {},
   "outputs": [],
   "source": [
    "#Vector and linear combination of vector spaces\n",
    "\n",
    "import numpy as np\n",
    "# Define scalar coefficients\n",
    "alpha = 0.6\n",
    "beta = 0.8\n",
    "\n",
    "# Scalar multiplication\n",
    "alpha_ket_0 = alpha * ket_0\n",
    "beta_ket_1 = beta * ket_1\n",
    "\n",
    "# Vector addition (Linear combination)\n",
    "linear_combination = alpha_ket_0 + beta_ket_1"
   ]
  },
  {
   "cell_type": "code",
   "execution_count": 9,
   "id": "9e322f72",
   "metadata": {},
   "outputs": [
    {
     "data": {
      "text/latex": [
       "Quantum object: dims=[[2], [1]], shape=(2, 1), type='ket', dtype=Dense$$\\left(\\begin{array}{cc}0.600\\\\0\\end{array}\\right)$$"
      ],
      "text/plain": [
       "Quantum object: dims=[[2], [1]], shape=(2, 1), type='ket', dtype=Dense\n",
       "Qobj data =\n",
       "[[0.6]\n",
       " [0. ]]"
      ]
     },
     "execution_count": 9,
     "metadata": {},
     "output_type": "execute_result"
    }
   ],
   "source": [
    "alpha_ket_0"
   ]
  },
  {
   "cell_type": "code",
   "execution_count": 10,
   "id": "257d7a6d",
   "metadata": {},
   "outputs": [
    {
     "data": {
      "text/latex": [
       "Quantum object: dims=[[2], [1]], shape=(2, 1), type='ket', dtype=Dense$$\\left(\\begin{array}{cc}0\\\\0.800\\end{array}\\right)$$"
      ],
      "text/plain": [
       "Quantum object: dims=[[2], [1]], shape=(2, 1), type='ket', dtype=Dense\n",
       "Qobj data =\n",
       "[[0. ]\n",
       " [0.8]]"
      ]
     },
     "execution_count": 10,
     "metadata": {},
     "output_type": "execute_result"
    }
   ],
   "source": [
    "beta_ket_1"
   ]
  },
  {
   "cell_type": "code",
   "execution_count": 11,
   "id": "964f554d",
   "metadata": {},
   "outputs": [
    {
     "data": {
      "text/latex": [
       "Quantum object: dims=[[2], [1]], shape=(2, 1), type='ket', dtype=Dense$$\\left(\\begin{array}{cc}0.600\\\\0.800\\end{array}\\right)$$"
      ],
      "text/plain": [
       "Quantum object: dims=[[2], [1]], shape=(2, 1), type='ket', dtype=Dense\n",
       "Qobj data =\n",
       "[[0.6]\n",
       " [0.8]]"
      ]
     },
     "execution_count": 11,
     "metadata": {},
     "output_type": "execute_result"
    }
   ],
   "source": [
    "linear_combination"
   ]
  },
  {
   "cell_type": "code",
   "execution_count": 12,
   "id": "1db2e81d",
   "metadata": {},
   "outputs": [
    {
     "name": "stdout",
     "output_type": "stream",
     "text": [
      "\n",
      "Normalized Linear Combination:\n",
      "Quantum object: dims=[[2], [1]], shape=(2, 1), type='ket', dtype=Dense\n",
      "Qobj data =\n",
      "[[0.6]\n",
      " [0.8]]\n",
      "\n",
      "Norm of the normalized combination: 1.0\n"
     ]
    }
   ],
   "source": [
    "# Normalize the linear combination to ensure it's a valid quantum state\n",
    "normalized_combination = linear_combination.unit()\n",
    "\n",
    "print(\"\\nNormalized Linear Combination:\")\n",
    "print(normalized_combination)\n",
    "\n",
    "# Verify the normalization\n",
    "norm = normalized_combination.norm()\n",
    "print(f\"\\nNorm of the normalized combination: {norm}\")"
   ]
  },
  {
   "cell_type": "code",
   "execution_count": 17,
   "id": "1700cdbc",
   "metadata": {},
   "outputs": [
    {
     "name": "stdout",
     "output_type": "stream",
     "text": [
      "0j\n"
     ]
    }
   ],
   "source": [
    "# Inner product\n",
    "inner_product = ket_0.overlap(ket_1)\n",
    "print(inner_product)"
   ]
  },
  {
   "cell_type": "code",
   "execution_count": 18,
   "id": "0892ce8a",
   "metadata": {},
   "outputs": [
    {
     "name": "stdout",
     "output_type": "stream",
     "text": [
      "\n",
      "Inner Product ⟨0|1⟩ (Orthogonality Check):\n",
      "0j\n",
      "\n",
      "Inner Product ⟨0|0⟩ (Normalization Check for |0⟩):\n",
      "(1+0j)\n",
      "\n",
      "Inner Product ⟨1|1⟩ (Normalization Check for |1⟩):\n",
      "(1+0j)\n",
      "\n",
      "Are the vectors orthonormal?\n",
      "True\n"
     ]
    }
   ],
   "source": [
    "# Orthonormality \n",
    "\n",
    "ket_0 = qt.basis(2, 0)\n",
    "ket_1 = qt.basis(2, 1)\n",
    "\n",
    "# Compute the inner products\n",
    "inner_product_0_1 = ket_0.overlap(ket_1)  # ⟨0|1⟩\n",
    "inner_product_0_0 = ket_0.overlap(ket_0)  # ⟨0|0⟩\n",
    "inner_product_1_1 = ket_1.overlap(ket_1)  # ⟨1|1⟩\n",
    "\n",
    "print(\"\\nInner Product ⟨0|1⟩ (Orthogonality Check):\")\n",
    "print(inner_product_0_1)\n",
    "\n",
    "print(\"\\nInner Product ⟨0|0⟩ (Normalization Check for |0⟩):\")\n",
    "print(inner_product_0_0)\n",
    "\n",
    "print(\"\\nInner Product ⟨1|1⟩ (Normalization Check for |1⟩):\")\n",
    "print(inner_product_1_1)\n",
    "\n",
    "# Check if the vectors are orthonormal\n",
    "are_orthonormal = (inner_product_0_1 == 0) and (inner_product_0_0 == 1) and (inner_product_1_1 == 1)\n",
    "\n",
    "print(\"\\nAre the vectors orthonormal?\")\n",
    "print(are_orthonormal)\n"
   ]
  },
  {
   "cell_type": "code",
   "execution_count": null,
   "id": "09d74104",
   "metadata": {},
   "outputs": [],
   "source": []
  }
 ],
 "metadata": {
  "kernelspec": {
   "display_name": "Python 3 (ipykernel)",
   "language": "python",
   "name": "python3"
  },
  "language_info": {
   "codemirror_mode": {
    "name": "ipython",
    "version": 3
   },
   "file_extension": ".py",
   "mimetype": "text/x-python",
   "name": "python",
   "nbconvert_exporter": "python",
   "pygments_lexer": "ipython3",
   "version": "3.9.12"
  }
 },
 "nbformat": 4,
 "nbformat_minor": 5
}
